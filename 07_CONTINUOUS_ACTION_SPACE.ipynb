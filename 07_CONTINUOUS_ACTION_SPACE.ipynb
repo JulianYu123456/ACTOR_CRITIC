{
 "cells": [
  {
   "cell_type": "code",
   "execution_count": 1,
   "metadata": {},
   "outputs": [],
   "source": [
    "%load_ext autoreload\n",
    "%autoreload 2"
   ]
  },
  {
   "cell_type": "code",
   "execution_count": 2,
   "metadata": {},
   "outputs": [],
   "source": [
    "# Start virtual display\n",
    "# pip install PyVirtualDisplay\n",
    "# sudo apt-get install xvfb\n",
    "\n",
    "from pyvirtualdisplay import Display\n",
    "display = Display(visible=0, size=(1024, 768))\n",
    "display.start()\n",
    "import os\n",
    "os.environ[\"DISPLAY\"] = \":\" + str(display.display) + \".\" + str(display.screen)"
   ]
  },
  {
   "cell_type": "code",
   "execution_count": 3,
   "metadata": {},
   "outputs": [
    {
     "name": "stderr",
     "output_type": "stream",
     "text": [
      "Using TensorFlow backend.\n"
     ]
    }
   ],
   "source": [
    "from REINFORCE_helper import RunningVariance\n",
    "from time import time\n",
    "from REINFORCE_helper import BaseAgent, format_as_pandas\n",
    "from keras.models import Sequential, Model\n",
    "from keras.layers import Dense, Input\n",
    "from keras.optimizers import Adam, SGD\n",
    "import keras.backend as K\n",
    "import numpy as np"
   ]
  },
  {
   "cell_type": "code",
   "execution_count": 4,
   "metadata": {},
   "outputs": [],
   "source": [
    "class ReinforceAgent(BaseAgent):\n",
    "    # def __init__(self):\n",
    "    def actor_critic_loss_continuous(self, advantage):\n",
    "        def loss(y_true, y_pred):\n",
    "            var = K.square(self.noise)\n",
    "            denom = K.sqrt(2.0 * np.pi * var)\n",
    "            prob_num = K.exp(- K.square(y_true - y_pred) / (2.0 * var))\n",
    "            prob = prob_num/denom\n",
    "            return -K.mean(prob * advantage)\n",
    "        return loss\n",
    "    \n",
    "    def get_policy_model(self, lr=0.001, hidden_layer_neurons = 128, input_shape=[4], output_shape=2):\n",
    "        state_input = Input(shape=input_shape)\n",
    "        advantage = Input(shape=(1,))\n",
    "        x = Dense(hidden_layer_neurons, activation='relu')(state_input)\n",
    "        x = Dense(hidden_layer_neurons, activation='relu')(x)\n",
    "        out_actions = Dense(output_shape, activation='tanh')(x)\n",
    "        \n",
    "        model = Model(inputs=[state_input, advantage], outputs=[out_actions])\n",
    "        model.compile(Adam(lr), loss=self.actor_critic_loss_continuous(advantage))\n",
    "        return model\n",
    "    \n",
    "    def get_action(self, eval=False):\n",
    "        dummy_adv = np.zeros((1, 1))\n",
    "        obs = self.scaler.transform(self.observation.reshape(1, self.nS))\n",
    "        p = self.model.predict([obs, dummy_adv])*self.env.action_space.high\n",
    "        if eval is False:\n",
    "            action = action_one_hot = p[0] + np.random.normal(loc=0, scale=self.noise, size=p[0].shape)\n",
    "            # action = action_one_hot = np.clip(action, self.env.action_space.low, self.env.action_space.high)\n",
    "        else:\n",
    "            action = action_one_hot = p[0]\n",
    "        \n",
    "        return action, action_one_hot, p\n",
    "    \n",
    "    \n",
    "    def get_entropy(self, preds, epsilon=1e-12):\n",
    "        # entropy = np.mean(-np.sum(np.log(preds+epsilon)*preds, axis=1)/np.log(self.nA))\n",
    "        return 1\n",
    "    \n",
    "    def get_discounted_rewards(self, r):\n",
    "        # Por si es una lista\n",
    "        r = np.array(r, dtype=float)\n",
    "        \"\"\"Take 1D float array of rewards and compute discounted reward \"\"\"\n",
    "        discounted_r = np.zeros_like(r)\n",
    "        running_add = 0\n",
    "        for t in reversed(range(0, r.size)):\n",
    "            running_add = running_add * self.gamma + r[t]\n",
    "            discounted_r[t] = running_add\n",
    "        return discounted_r "
   ]
  },
  {
   "cell_type": "code",
   "execution_count": null,
   "metadata": {},
   "outputs": [
    {
     "name": "stdout",
     "output_type": "stream",
     "text": [
      "Warning: El espacio de acción es continuo\n",
      "WARNING:tensorflow:From /home/usuario/anaconda3/envs/GPUV2/lib/python3.6/site-packages/tensorflow/python/framework/op_def_library.py:263: colocate_with (from tensorflow.python.framework.ops) is deprecated and will be removed in a future version.\n",
      "Instructions for updating:\n",
      "Colocations handled automatically by placer.\n"
     ]
    }
   ],
   "source": [
    "# reinforce_agent = ReinforceAgent('MountainCarContinuous-v0', n_experience_episodes=2, EPISODES=2000, epochs=1, lr=0.001, algorithm='REINFORCE_CAUSAL')\n",
    "reinforce_agent = ReinforceAgent('Pendulum-v0', n_experience_episodes=2, EPISODES=2000, epochs=1, lr=0.001, algorithm='REINFORCE_CAUSAL')"
   ]
  },
  {
   "cell_type": "code",
   "execution_count": null,
   "metadata": {},
   "outputs": [
    {
     "name": "stdout",
     "output_type": "stream",
     "text": [
      "[-2.] [2.]\n"
     ]
    }
   ],
   "source": [
    "print(reinforce_agent.env.action_space.low,\n",
    "reinforce_agent.env.action_space.high)"
   ]
  },
  {
   "cell_type": "code",
   "execution_count": null,
   "metadata": {},
   "outputs": [
    {
     "name": "stdout",
     "output_type": "stream",
     "text": [
      "Model: \"model_1\"\n",
      "_________________________________________________________________\n",
      "Layer (type)                 Output Shape              Param #   \n",
      "=================================================================\n",
      "input_1 (InputLayer)         (None, 3)                 0         \n",
      "_________________________________________________________________\n",
      "dense_1 (Dense)              (None, 128)               512       \n",
      "_________________________________________________________________\n",
      "dense_2 (Dense)              (None, 128)               16512     \n",
      "_________________________________________________________________\n",
      "dense_3 (Dense)              (None, 1)                 129       \n",
      "=================================================================\n",
      "Total params: 17,153\n",
      "Trainable params: 17,153\n",
      "Non-trainable params: 0\n",
      "_________________________________________________________________\n"
     ]
    }
   ],
   "source": [
    "reinforce_agent.model.summary()"
   ]
  },
  {
   "cell_type": "code",
   "execution_count": null,
   "metadata": {},
   "outputs": [],
   "source": [
    "obs, actions, preds, disc_sum_rews, rewards, ep_returns, ep_len, last_obs, time_step = reinforce_agent.get_experience_episodes(return_ts=True)"
   ]
  },
  {
   "cell_type": "code",
   "execution_count": null,
   "metadata": {},
   "outputs": [
    {
     "name": "stdout",
     "output_type": "stream",
     "text": [
      "[[-0.80621183]\n",
      " [-1.12020307]\n",
      " [-0.94194067]\n",
      " [-0.59158756]\n",
      " [-0.88948428]\n",
      " [ 0.18423736]\n",
      " [ 0.04995022]\n",
      " [-1.74832955]\n",
      " [ 0.25475455]\n",
      " [-0.38058892]]\n"
     ]
    }
   ],
   "source": [
    "print(actions[:10])"
   ]
  },
  {
   "cell_type": "code",
   "execution_count": null,
   "metadata": {},
   "outputs": [
    {
     "name": "stdout",
     "output_type": "stream",
     "text": [
      "[[-0.37705782]\n",
      " [-0.35253835]\n",
      " [-0.32969052]\n",
      " [-0.29659286]\n",
      " [-0.24854067]\n",
      " [-0.21147202]\n",
      " [-0.16380957]\n",
      " [-0.13274129]\n",
      " [-0.12833874]\n",
      " [-0.13430135]]\n"
     ]
    }
   ],
   "source": [
    "print(preds[:10])"
   ]
  },
  {
   "cell_type": "code",
   "execution_count": null,
   "metadata": {},
   "outputs": [
    {
     "data": {
      "text/plain": [
       "array([[-6.65765940e-01,  7.46160648e-01, -2.73168970e-01],\n",
       "       [-6.71918286e-01,  7.40625288e-01,  1.65519743e-01],\n",
       "       [-6.92135627e-01,  7.21767465e-01,  5.52958247e-01],\n",
       "       ...,\n",
       "       [-2.63224072e-01, -9.64734724e-01,  5.76068944e+00],\n",
       "       [ 4.94307316e-04, -9.99999878e-01,  5.33713839e+00],\n",
       "       [ 2.24875322e-01, -9.74387546e-01,  4.52641544e+00]])"
      ]
     },
     "execution_count": 11,
     "metadata": {},
     "output_type": "execute_result"
    }
   ],
   "source": [
    "obs"
   ]
  },
  {
   "cell_type": "code",
   "execution_count": null,
   "metadata": {},
   "outputs": [
    {
     "name": "stdout",
     "output_type": "stream",
     "text": [
      "Warning: El espacio de acción es continuo\n",
      "correr en linea de comando: tensorboard --logdir logs/\n",
      "Episode: 5\n",
      "Model on episode 6 improved from -inf to -23.607904508678107. Saved!\n"
     ]
    },
    {
     "name": "stderr",
     "output_type": "stream",
     "text": [
      "t:   1%|▏         | 13/1000 [00:00<00:07, 129.97it/s, now=None]"
     ]
    },
    {
     "name": "stdout",
     "output_type": "stream",
     "text": [
      "MoviePy - Building file /tmp/tmpap8582rt.gif with imageio.\n"
     ]
    },
    {
     "name": "stderr",
     "output_type": "stream",
     "text": []
    },
    {
     "name": "stdout",
     "output_type": "stream",
     "text": [
      "Episode: 12\n",
      "Model on episode 13 improved from -23.607904508678107 to 36.39102148286267. Saved!\n"
     ]
    },
    {
     "name": "stderr",
     "output_type": "stream",
     "text": [
      "t:   3%|▎         | 14/473 [00:00<00:03, 133.52it/s, now=None]"
     ]
    },
    {
     "name": "stdout",
     "output_type": "stream",
     "text": [
      "MoviePy - Building file /tmp/tmpn82ighzr.gif with imageio.\n"
     ]
    },
    {
     "name": "stderr",
     "output_type": "stream",
     "text": []
    },
    {
     "name": "stdout",
     "output_type": "stream",
     "text": [
      "Episode: 117"
     ]
    }
   ],
   "source": [
    "reinforce_agent = ReinforceAgent('MountainCarContinuous-v0', n_experience_episodes=1, eval_period=5, \n",
    "                                 EPISODES=2000, epochs=1, lr=0.0001, algorithm='CONTINUOUS_CAUSAL', noise=3.0, gif_to_board=True)\n",
    "\n",
    "# reinforce_agent = ReinforceAgent('Pendulum-v0', n_experience_episodes=1, \n",
    "#                                  EPISODES=10000, epochs=1, lr=0.0001, algorithm='CONTINUOUS_CAUSAL', noise=2.0)\n",
    "\n",
    "initial_time = time()\n",
    "running_variance = RunningVariance()\n",
    "\n",
    "\n",
    "while reinforce_agent.episode < reinforce_agent.EPISODES:\n",
    "    obs, actions, preds, disc_sum_rews, rewards, ep_returns, ep_len, last_obs = reinforce_agent.get_experience_episodes()\n",
    "    \n",
    "    for dr in disc_sum_rews:\n",
    "        running_variance.add(dr)\n",
    "\n",
    "    \n",
    "    history = reinforce_agent.model.fit([obs, disc_sum_rews.reshape(-1, 1)], \n",
    "                                        actions, verbose=0, \n",
    "                                        epochs=reinforce_agent.epochs, \n",
    "                                        batch_size=1)\n",
    "    \n",
    "    reinforce_agent.log_data(reinforce_agent.episode, \n",
    "                      history.history['loss'][0], \n",
    "                      np.mean(ep_len), \n",
    "                      reinforce_agent.get_entropy(preds), \n",
    "                      running_variance.get_variance(), \n",
    "                      None, \n",
    "                      time() - initial_time, np.mean(ep_returns[-1]))"
   ]
  },
  {
   "cell_type": "code",
   "execution_count": null,
   "metadata": {},
   "outputs": [],
   "source": [
    "from matplotlib import pyplot as plt"
   ]
  },
  {
   "cell_type": "code",
   "execution_count": null,
   "metadata": {},
   "outputs": [],
   "source": [
    "# obs, actions, preds, disc_sum_rews, rewards, ep_returns, ep_len = reinforce_agent.get_eval_episode('MountainCarContinuous.gif', fps=50)\n",
    "obs, actions, preds, disc_sum_rews, rewards, ep_returns, ep_len = reinforce_agent.get_eval_episode()"
   ]
  },
  {
   "cell_type": "code",
   "execution_count": null,
   "metadata": {},
   "outputs": [],
   "source": [
    "plt.plot(preds)\n",
    "plt.plot(actions)"
   ]
  },
  {
   "cell_type": "code",
   "execution_count": null,
   "metadata": {},
   "outputs": [],
   "source": [
    "obs, actions, preds, disc_sum_rews, rewards, ep_returns, ep_len, last_obs = reinforce_agent.get_experience_episodes()"
   ]
  },
  {
   "cell_type": "code",
   "execution_count": null,
   "metadata": {},
   "outputs": [],
   "source": [
    "plt.plot(preds)\n",
    "plt.plot(actions)"
   ]
  },
  {
   "cell_type": "code",
   "execution_count": null,
   "metadata": {},
   "outputs": [],
   "source": []
  }
 ],
 "metadata": {
  "kernelspec": {
   "display_name": "Python 3",
   "language": "python",
   "name": "python3"
  },
  "language_info": {
   "codemirror_mode": {
    "name": "ipython",
    "version": 3
   },
   "file_extension": ".py",
   "mimetype": "text/x-python",
   "name": "python",
   "nbconvert_exporter": "python",
   "pygments_lexer": "ipython3",
   "version": "3.6.8"
  }
 },
 "nbformat": 4,
 "nbformat_minor": 2
}
